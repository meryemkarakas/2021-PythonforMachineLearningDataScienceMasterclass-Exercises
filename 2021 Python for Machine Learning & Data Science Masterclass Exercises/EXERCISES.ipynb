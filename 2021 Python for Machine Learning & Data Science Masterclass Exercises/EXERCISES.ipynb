{
 "cells": [
  {
   "cell_type": "markdown",
   "id": "2d0ef133",
   "metadata": {},
   "source": [
    "<H1><center><span style=\"color:#8c1c13\">EXERCISES</span></center></H1>\n",
    "\n",
    "![EXERCISES](img/1.gif)\n",
    "\n",
    "1. [PYTHON CRASH COURSE](#1)\n",
    "2. <strong>[NUMPY](#2)</strong>\n",
    "3. <strong>[PANDAS](#3)</strong>\n",
    "4. <strong>[MATPLOTLIB](#3)</strong>\n",
    "5. <strong>[SEABORN](#3)</strong>"
   ]
  },
  {
   "cell_type": "markdown",
   "id": "391160db",
   "metadata": {},
   "source": [
    "<a id=1>  </a> <br>\n",
    "\n",
    "<h2>Python Crash Course Exercises</h2>\n",
    "\n",
    "![python](img/python.gif)"
   ]
  },
  {
   "cell_type": "markdown",
   "id": "e1b34720",
   "metadata": {},
   "source": [
    "<h3><span style=\"color:#742818\">E1: What is 7 to the power of 4?</span></h3>"
   ]
  },
  {
   "cell_type": "code",
   "execution_count": 5,
   "id": "f594135b",
   "metadata": {},
   "outputs": [
    {
     "name": "stdout",
     "output_type": "stream",
     "text": [
      "2401\n"
     ]
    }
   ],
   "source": [
    "print(7**4)"
   ]
  },
  {
   "cell_type": "markdown",
   "id": "61100b8d",
   "metadata": {},
   "source": [
    "<h3><span style=\"color:#742818\">E2: Split string into a list.</span></h3>"
   ]
  },
  {
   "cell_type": "code",
   "execution_count": 4,
   "id": "9c393d08",
   "metadata": {},
   "outputs": [
    {
     "data": {
      "text/plain": [
       "['Hi', 'there', 'Sam!']"
      ]
     },
     "execution_count": 4,
     "metadata": {},
     "output_type": "execute_result"
    }
   ],
   "source": [
    "s = 'Hi there Sam!'\n",
    "list1 = s.split()\n",
    "list1"
   ]
  },
  {
   "cell_type": "markdown",
   "id": "b6ac97fe",
   "metadata": {},
   "source": [
    "<h3><span style=\"color:#742818\">\n",
    "\n",
    "E3: Use .format() to print the following string:\n",
    "\n",
    "The diameter of Earth is 12742 kilometers.</span></h3>"
   ]
  },
  {
   "cell_type": "code",
   "execution_count": 6,
   "id": "1ed50fdd",
   "metadata": {},
   "outputs": [
    {
     "name": "stdout",
     "output_type": "stream",
     "text": [
      "The diameter of Earth is 12742 kilometers.\n"
     ]
    }
   ],
   "source": [
    "planet = 'Earth'\n",
    "diameter = 12742\n",
    "\n",
    "print(f\"The diameter of {planet} is {diameter} kilometers.\")"
   ]
  },
  {
   "cell_type": "markdown",
   "id": "9595cfe0",
   "metadata": {},
   "source": [
    "<h3><span style=\"color:#742818\">E4: Given this nested list, use indexing to grab the word \"hello\"</span></h3>"
   ]
  },
  {
   "cell_type": "code",
   "execution_count": 9,
   "id": "f867f58c",
   "metadata": {},
   "outputs": [
    {
     "data": {
      "text/plain": [
       "['hello']"
      ]
     },
     "execution_count": 9,
     "metadata": {},
     "output_type": "execute_result"
    }
   ],
   "source": [
    "lst = [1,2,[3,4],[5,[100,200,[\"hello\"]],23,11],1,7]  # given nested list\n",
    "\n",
    "#solution\n",
    "lst[3][1][2]"
   ]
  },
  {
   "cell_type": "markdown",
   "id": "de8aaac9",
   "metadata": {},
   "source": [
    "<h3><span style=\"color:#742818\">E5: Given this nested dictionary grab the word \"hello\". Be prepared, this will be annoying/tricky</span></h3>"
   ]
  },
  {
   "cell_type": "code",
   "execution_count": 10,
   "id": "3a5e0e2d",
   "metadata": {},
   "outputs": [
    {
     "data": {
      "text/plain": [
       "'hello'"
      ]
     },
     "execution_count": 10,
     "metadata": {},
     "output_type": "execute_result"
    }
   ],
   "source": [
    "# given nested dictionary\n",
    "d = {'k1': [1,2,3,{'tricky': ['oh','man','incepiton', {'target':[1,2,3,'hello']}]}]}\n",
    "\n",
    "#solution\n",
    "d['k1'][3]['tricky'][3]['target'][3]"
   ]
  },
  {
   "cell_type": "markdown",
   "id": "61d50325",
   "metadata": {},
   "source": [
    "<h3><span style=\"color:#742818\">E6: Create a function that grabs the email website domain from a string in the form: user@domain.com</span></h3>\n",
    "\n",
    "**So for example, passing \"user@domain.com\" would return: domain.com**"
   ]
  },
  {
   "cell_type": "code",
   "execution_count": 11,
   "id": "0be88dd7",
   "metadata": {},
   "outputs": [
    {
     "data": {
      "text/plain": [
       "'domain.com'"
      ]
     },
     "execution_count": 11,
     "metadata": {},
     "output_type": "execute_result"
    }
   ],
   "source": [
    "def domainGet(s):\n",
    "    return s.split('@')[-1]\n",
    "\n",
    "# call the function\n",
    "domainGet('user@domain.com')"
   ]
  },
  {
   "cell_type": "markdown",
   "id": "b4ab9564",
   "metadata": {},
   "source": [
    "<h3><span style=\"color:#742818\">E7: Create a basic function that returns True if the word 'dog' is contained in the input string. Don't worry about edge cases like a punctuation being attached to the word dog, but do account for capitalization. </span></h3>"
   ]
  },
  {
   "cell_type": "code",
   "execution_count": 12,
   "id": "5ff7b05a",
   "metadata": {},
   "outputs": [
    {
     "data": {
      "text/plain": [
       "True"
      ]
     },
     "execution_count": 12,
     "metadata": {},
     "output_type": "execute_result"
    }
   ],
   "source": [
    "def findDog(s):\n",
    "    return 'dog' in s.lower().split()\n",
    "\n",
    "# call the function\n",
    "findDog('Is there a dog here?')"
   ]
  },
  {
   "cell_type": "markdown",
   "id": "ff14176f",
   "metadata": {},
   "source": [
    "<h3><span style=\"color:#742818\">E8: Create a function that counts the number of times the word \"dog\" occurs in a string. Again ignore edge cases. </span></h3>"
   ]
  },
  {
   "cell_type": "code",
   "execution_count": 13,
   "id": "979c9fa1",
   "metadata": {},
   "outputs": [
    {
     "name": "stdout",
     "output_type": "stream",
     "text": [
      "2\n"
     ]
    }
   ],
   "source": [
    "def countDog(s):\n",
    "    s = s.lower().split()\n",
    "    i = 0\n",
    "    count = 0\n",
    "    while i < len(s):\n",
    "        if s[i] == 'dog':\n",
    "            count = count + 1\n",
    "            i = i+1\n",
    "        else:\n",
    "            i = i+1\n",
    "    print(count)\n",
    "\n",
    "countDog('This dog runs faster than the other dog dude!')"
   ]
  },
  {
   "cell_type": "markdown",
   "id": "0a0a87af",
   "metadata": {},
   "source": [
    "<h3><span style=\"color:#742818\">E9: Use lambda expressions and the filter() function to filter out words from a list that don't start with the letter 's'. </span></h3>\n",
    "\n",
    "**For example: eq = ['soup','dog','salad','cat','great']**\n",
    "\n",
    "<h3><span style=\"color:#742818\">should be filtered down to:</span></h3>\n",
    "\n",
    "**['soup' , 'salad']**\n"
   ]
  },
  {
   "cell_type": "code",
   "execution_count": 14,
   "id": "84a7de42",
   "metadata": {},
   "outputs": [
    {
     "name": "stdout",
     "output_type": "stream",
     "text": [
      "['soup', 'salad']\n"
     ]
    }
   ],
   "source": [
    "seq = ['soup','dog','salad','cat','great']\n",
    "\n",
    "#find the words\n",
    "withS = filter(lambda word: word.startswith('s'), seq)\n",
    "print(list(withS))"
   ]
  },
  {
   "cell_type": "markdown",
   "id": "7429b91f",
   "metadata": {},
   "source": [
    "<h3><span style=\"color:#742818\">Final Problem: \n",
    "You are driving a little too fast, and a police officer stops you. Write a function to return one of 3 possible results: \"No ticket\", \"Small ticket\", or \"Big Ticket\". If your speed is 60 or less, the result is \"No Ticket\". If speed is between 61 and 80 inclusive, the result is \"Small Ticket\". If speed is 81 or more, the result is \"Big Ticket\". Unless it is your birthday (encoded as a boolean value in the parameters of the function) -- on your birthday, your speed can be 5 higher in all cases. </span></h3>\n",
    "\n",
    "**Function Explanation**\n",
    "\n",
    "1. speed = 60 or less . result = No Ticket\n",
    "2. speed = 61 and 80, result = Small Ticket\n",
    "3. speed = 81 or more, result = Big Ticket\n",
    "\n",
    "- is_birthday = True or false\n",
    "- on your birthday your speed can be 5 higher in all cases"
   ]
  },
  {
   "cell_type": "code",
   "execution_count": 15,
   "id": "b126df03",
   "metadata": {},
   "outputs": [],
   "source": [
    "#create function\n",
    "\n",
    "def caught_speeding(speed, is_birthday):\n",
    "    if is_birthday == True:\n",
    "        if speed <= 65:\n",
    "            return \"No Ticket\"\n",
    "        elif speed in range(66,86):\n",
    "            return \"Small Ticket\"\n",
    "        else:\n",
    "            return \"Big Ticket\"\n",
    "    else:\n",
    "        if speed <= 60:\n",
    "            return \"No Ticket\"\n",
    "        if speed in range(61,81):\n",
    "            return \"Small Ticket\"\n",
    "        else:\n",
    "            return \"Big Ticket\""
   ]
  },
  {
   "cell_type": "code",
   "execution_count": 18,
   "id": "97383645",
   "metadata": {},
   "outputs": [
    {
     "name": "stdout",
     "output_type": "stream",
     "text": [
      "Small Ticket\n",
      "Big Ticket\n"
     ]
    }
   ],
   "source": [
    "#call the function\n",
    "\n",
    "print(caught_speeding(81,True))\n",
    "print(caught_speeding(81,False))"
   ]
  },
  {
   "cell_type": "markdown",
   "id": "889abb1a",
   "metadata": {},
   "source": [
    "<a id=2>  </a> <br>\n",
    "\n",
    "<h2>NumPy Exercises</h2>\n",
    "\n",
    "![python](img/n.gif)"
   ]
  },
  {
   "cell_type": "code",
   "execution_count": 19,
   "id": "223b4255",
   "metadata": {},
   "outputs": [],
   "source": [
    "#import NumPy library\n",
    "\n",
    "import numpy as np"
   ]
  },
  {
   "cell_type": "markdown",
   "id": "ca62be5c",
   "metadata": {},
   "source": [
    "<h3><span style=\"color:#065a60\">Coding Exercise Check-in 1: Crating NumPy Arrays </span></h3>\n",
    "\n",
    "**TASK: Create a numpy array called myarray which consists of 101 evenly linearly spaced points between 0 and 10.**"
   ]
  },
  {
   "cell_type": "code",
   "execution_count": 20,
   "id": "249b1096",
   "metadata": {},
   "outputs": [
    {
     "data": {
      "text/plain": [
       "array([ 0. ,  0.1,  0.2,  0.3,  0.4,  0.5,  0.6,  0.7,  0.8,  0.9,  1. ,\n",
       "        1.1,  1.2,  1.3,  1.4,  1.5,  1.6,  1.7,  1.8,  1.9,  2. ,  2.1,\n",
       "        2.2,  2.3,  2.4,  2.5,  2.6,  2.7,  2.8,  2.9,  3. ,  3.1,  3.2,\n",
       "        3.3,  3.4,  3.5,  3.6,  3.7,  3.8,  3.9,  4. ,  4.1,  4.2,  4.3,\n",
       "        4.4,  4.5,  4.6,  4.7,  4.8,  4.9,  5. ,  5.1,  5.2,  5.3,  5.4,\n",
       "        5.5,  5.6,  5.7,  5.8,  5.9,  6. ,  6.1,  6.2,  6.3,  6.4,  6.5,\n",
       "        6.6,  6.7,  6.8,  6.9,  7. ,  7.1,  7.2,  7.3,  7.4,  7.5,  7.6,\n",
       "        7.7,  7.8,  7.9,  8. ,  8.1,  8.2,  8.3,  8.4,  8.5,  8.6,  8.7,\n",
       "        8.8,  8.9,  9. ,  9.1,  9.2,  9.3,  9.4,  9.5,  9.6,  9.7,  9.8,\n",
       "        9.9, 10. ])"
      ]
     },
     "execution_count": 20,
     "metadata": {},
     "output_type": "execute_result"
    }
   ],
   "source": [
    "myarray = np.linspace(0, 10, 101)\n",
    "myarray"
   ]
  },
  {
   "cell_type": "markdown",
   "id": "6e1e5164",
   "metadata": {},
   "source": [
    "<h3><span style=\"color:#065a60\">Coding Exercise Check-in 2: Selecting Data from NumPy Arrays </span></h3>\n",
    "\n",
    "#### TASK: Use numpy to check how many rolls were greater than 2.\n",
    "**For example if dice_rolls=[1,2,3] then the answer is 1..**"
   ]
  },
  {
   "cell_type": "code",
   "execution_count": 23,
   "id": "202b9eb3",
   "metadata": {},
   "outputs": [
    {
     "data": {
      "text/plain": [
       "array([3, 1, 5, 2, 5, 1, 1, 5, 1, 4, 2, 1, 4, 5, 3, 4, 5, 2, 4, 2, 6, 6,\n",
       "       3, 6, 2, 3, 5, 6, 5])"
      ]
     },
     "execution_count": 23,
     "metadata": {},
     "output_type": "execute_result"
    }
   ],
   "source": [
    "dice_rolls = np.array([3, 1, 5, 2, 5, 1, 1,\n",
    "                       5, 1, 4, 2, 1, 4, 5, 3,\n",
    "                       4, 5, 2, 4, 2, 6, 6, 3, \n",
    "                       6, 2, 3, 5, 6, 5])\n",
    "dice_rolls"
   ]
  },
  {
   "cell_type": "code",
   "execution_count": 24,
   "id": "083fed60",
   "metadata": {},
   "outputs": [
    {
     "data": {
      "text/plain": [
       "19"
      ]
     },
     "execution_count": 24,
     "metadata": {},
     "output_type": "execute_result"
    }
   ],
   "source": [
    "gt2 = dice_rolls[dice_rolls > 2]\n",
    "count = gt2.size\n",
    "count"
   ]
  },
  {
   "cell_type": "markdown",
   "id": "6a731973",
   "metadata": {},
   "source": [
    "<h3><span style=\"color:#065a60\">Coding Exercise Check-in 3: Operations on NumPy Arrays </span></h3>\n",
    "\n",
    "**TASK: A bank account has had withdrawals and deposits tracked in a numpy array called account_transactions. \n",
    "Based on this list of account transactions, what is the total remaining in the account? \n",
    "Assign your answer to a variable called account_total. Please note, in order for the exercise to evaluate correctly, \n",
    "you must use the variable name account_total.**"
   ]
  },
  {
   "cell_type": "code",
   "execution_count": 25,
   "id": "82927e92",
   "metadata": {},
   "outputs": [
    {
     "name": "stdout",
     "output_type": "stream",
     "text": [
      "641\n"
     ]
    }
   ],
   "source": [
    "account_transactions = np.array([500, 1000, -250, 430, -175, \n",
    "                               123, -987])\n",
    "\n",
    "account_total = account_transactions.sum()\n",
    "print(account_total)"
   ]
  },
  {
   "cell_type": "markdown",
   "id": "020c6f74",
   "metadata": {},
   "source": [
    "<h3><span style=\"color:#065a60\">E1: Create an array of 10 zeros.</span></h3>"
   ]
  },
  {
   "cell_type": "code",
   "execution_count": 26,
   "id": "6948d1d5",
   "metadata": {},
   "outputs": [
    {
     "data": {
      "text/plain": [
       "array([0., 0., 0., 0., 0., 0., 0., 0., 0., 0.])"
      ]
     },
     "execution_count": 26,
     "metadata": {},
     "output_type": "execute_result"
    }
   ],
   "source": [
    "arr = np.zeros(10)\n",
    "arr"
   ]
  },
  {
   "cell_type": "markdown",
   "id": "66b2e108",
   "metadata": {},
   "source": [
    "<h3><span style=\"color:#065a60\">E2: Create an array of 10 ones.</span></h3>"
   ]
  },
  {
   "cell_type": "code",
   "execution_count": 28,
   "id": "c7e46f35",
   "metadata": {},
   "outputs": [
    {
     "data": {
      "text/plain": [
       "array([1., 1., 1., 1., 1., 1., 1., 1., 1., 1.])"
      ]
     },
     "execution_count": 28,
     "metadata": {},
     "output_type": "execute_result"
    }
   ],
   "source": [
    "arr2 = np.ones(10)\n",
    "arr2"
   ]
  },
  {
   "cell_type": "markdown",
   "id": "04f8c586",
   "metadata": {},
   "source": [
    "<h3><span style=\"color:#065a60\">E3: Create an array of 10 fives.</span></h3>"
   ]
  },
  {
   "cell_type": "code",
   "execution_count": 44,
   "id": "d297bf67",
   "metadata": {},
   "outputs": [
    {
     "data": {
      "text/plain": [
       "array([5, 5, 5, 5, 5, 5, 5, 5, 5, 5])"
      ]
     },
     "execution_count": 44,
     "metadata": {},
     "output_type": "execute_result"
    }
   ],
   "source": [
    "arr3 = np.full((10,),5)\n",
    "arr3"
   ]
  },
  {
   "cell_type": "markdown",
   "id": "38a8748e",
   "metadata": {},
   "source": [
    "<h3><span style=\"color:#065a60\">E4: Create an array of the integers from 10 to 50.</span></h3>"
   ]
  },
  {
   "cell_type": "code",
   "execution_count": 35,
   "id": "068f7cfa",
   "metadata": {},
   "outputs": [
    {
     "data": {
      "text/plain": [
       "array([10, 11, 12, 13, 14, 15, 16, 17, 18, 19, 20, 21, 22, 23, 24, 25, 26,\n",
       "       27, 28, 29, 30, 31, 32, 33, 34, 35, 36, 37, 38, 39, 40, 41, 42, 43,\n",
       "       44, 45, 46, 47, 48, 49, 50])"
      ]
     },
     "execution_count": 35,
     "metadata": {},
     "output_type": "execute_result"
    }
   ],
   "source": [
    "arr4 = np.arange(10,51)\n",
    "arr4"
   ]
  },
  {
   "cell_type": "markdown",
   "id": "c5489466",
   "metadata": {},
   "source": [
    "<h3><span style=\"color:#065a60\">E5: Create an array of all the even integers from 10 to 50.</span></h3>"
   ]
  },
  {
   "cell_type": "code",
   "execution_count": 34,
   "id": "0c549525",
   "metadata": {},
   "outputs": [
    {
     "data": {
      "text/plain": [
       "array([10, 12, 14, 16, 18, 20, 22, 24, 26, 28, 30, 32, 34, 36, 38, 40, 42,\n",
       "       44, 46, 48, 50])"
      ]
     },
     "execution_count": 34,
     "metadata": {},
     "output_type": "execute_result"
    }
   ],
   "source": [
    "arr5 = np.arange(10,51,2)\n",
    "arr5"
   ]
  },
  {
   "cell_type": "markdown",
   "id": "316490bc",
   "metadata": {},
   "source": [
    "<h3><span style=\"color:#065a60\">E6: Create a 3x3 matrix with values ranging from 0 to 8.</span></h3>"
   ]
  },
  {
   "cell_type": "code",
   "execution_count": 33,
   "id": "2b1c209b",
   "metadata": {},
   "outputs": [
    {
     "data": {
      "text/plain": [
       "array([[0, 1, 2],\n",
       "       [3, 4, 5],\n",
       "       [6, 7, 8]])"
      ]
     },
     "execution_count": 33,
     "metadata": {},
     "output_type": "execute_result"
    }
   ],
   "source": [
    "arr6 = np.arange(0,9).reshape(3,3)\n",
    "arr6"
   ]
  },
  {
   "cell_type": "markdown",
   "id": "099ca529",
   "metadata": {},
   "source": [
    "<h3><span style=\"color:#065a60\">E7: Create a 3x3 identity matrix.</span></h3>"
   ]
  },
  {
   "cell_type": "code",
   "execution_count": 37,
   "id": "902db3b6",
   "metadata": {},
   "outputs": [
    {
     "data": {
      "text/plain": [
       "array([[1., 0., 0.],\n",
       "       [0., 1., 0.],\n",
       "       [0., 0., 1.]])"
      ]
     },
     "execution_count": 37,
     "metadata": {},
     "output_type": "execute_result"
    }
   ],
   "source": [
    "arr7 = np.eye(3,3)\n",
    "arr7"
   ]
  },
  {
   "cell_type": "markdown",
   "id": "788ad4d1",
   "metadata": {},
   "source": [
    "<h3><span style=\"color:#065a60\">E8: Use NumPy to generate a random number between 0 and 1.</span></h3>"
   ]
  },
  {
   "cell_type": "code",
   "execution_count": 47,
   "id": "e7b37512",
   "metadata": {},
   "outputs": [
    {
     "data": {
      "text/plain": [
       "0.08044096355283992"
      ]
     },
     "execution_count": 47,
     "metadata": {},
     "output_type": "execute_result"
    }
   ],
   "source": [
    "arr8 = np.random.rand()\n",
    "arr8"
   ]
  },
  {
   "cell_type": "markdown",
   "id": "1710c435",
   "metadata": {},
   "source": [
    "<h3><span style=\"color:#065a60\">E9: Use NumPy to generate an array of 25 random numbers sampled from a standard normal distribution\n",
    ".</span></h3>"
   ]
  },
  {
   "cell_type": "code",
   "execution_count": 50,
   "id": "66010c99",
   "metadata": {},
   "outputs": [
    {
     "data": {
      "text/plain": [
       "array([[ 0.34095927,  0.71261373, -0.3977904 , -1.72234294,  0.09922299],\n",
       "       [ 0.08069781, -0.24584432, -0.01779087, -2.46489093,  0.54715001],\n",
       "       [ 1.07001003,  1.07352684, -1.16225486,  1.55978094, -0.19110843],\n",
       "       [-0.20964517, -1.04293089,  0.15741001, -1.02137556, -0.44653059],\n",
       "       [-1.63438655,  0.16143041,  0.17658   , -0.42853415, -1.22811631]])"
      ]
     },
     "execution_count": 50,
     "metadata": {},
     "output_type": "execute_result"
    }
   ],
   "source": [
    "arr9 = np.random.randn(5,5)\n",
    "arr9"
   ]
  },
  {
   "cell_type": "markdown",
   "id": "e77bee13",
   "metadata": {},
   "source": [
    "<h3><span style=\"color:#065a60\">E10: Create the following matrix:.</span></h3>"
   ]
  },
  {
   "cell_type": "code",
   "execution_count": 52,
   "id": "838acb62",
   "metadata": {},
   "outputs": [
    {
     "data": {
      "text/plain": [
       "array([[0.01, 0.02, 0.03, 0.04, 0.05, 0.06, 0.07, 0.08, 0.09, 0.1 ],\n",
       "       [0.11, 0.12, 0.13, 0.14, 0.15, 0.16, 0.17, 0.18, 0.19, 0.2 ],\n",
       "       [0.21, 0.22, 0.23, 0.24, 0.25, 0.26, 0.27, 0.28, 0.29, 0.3 ],\n",
       "       [0.31, 0.32, 0.33, 0.34, 0.35, 0.36, 0.37, 0.38, 0.39, 0.4 ],\n",
       "       [0.41, 0.42, 0.43, 0.44, 0.45, 0.46, 0.47, 0.48, 0.49, 0.5 ],\n",
       "       [0.51, 0.52, 0.53, 0.54, 0.55, 0.56, 0.57, 0.58, 0.59, 0.6 ],\n",
       "       [0.61, 0.62, 0.63, 0.64, 0.65, 0.66, 0.67, 0.68, 0.69, 0.7 ],\n",
       "       [0.71, 0.72, 0.73, 0.74, 0.75, 0.76, 0.77, 0.78, 0.79, 0.8 ],\n",
       "       [0.81, 0.82, 0.83, 0.84, 0.85, 0.86, 0.87, 0.88, 0.89, 0.9 ],\n",
       "       [0.91, 0.92, 0.93, 0.94, 0.95, 0.96, 0.97, 0.98, 0.99, 1.  ]])"
      ]
     },
     "execution_count": 52,
     "metadata": {},
     "output_type": "execute_result"
    }
   ],
   "source": [
    "arr10 = np.arange(0.01, 1.01, .01).reshape(10,10)\n",
    "arr10"
   ]
  },
  {
   "cell_type": "markdown",
   "id": "72a85078",
   "metadata": {},
   "source": [
    "<h3><span style=\"color:#065a60\">E11: Create an array of 20 linearly spaced points between 0 and 1.</span></h3>"
   ]
  },
  {
   "cell_type": "code",
   "execution_count": 53,
   "id": "82d5357d",
   "metadata": {},
   "outputs": [
    {
     "data": {
      "text/plain": [
       "array([0.        , 0.05263158, 0.10526316, 0.15789474, 0.21052632,\n",
       "       0.26315789, 0.31578947, 0.36842105, 0.42105263, 0.47368421,\n",
       "       0.52631579, 0.57894737, 0.63157895, 0.68421053, 0.73684211,\n",
       "       0.78947368, 0.84210526, 0.89473684, 0.94736842, 1.        ])"
      ]
     },
     "execution_count": 53,
     "metadata": {},
     "output_type": "execute_result"
    }
   ],
   "source": [
    "arr11 = np.linspace(0, 1, 20)\n",
    "arr11"
   ]
  },
  {
   "cell_type": "code",
   "execution_count": 54,
   "id": "93f18232",
   "metadata": {},
   "outputs": [
    {
     "data": {
      "text/plain": [
       "array([[ 1,  2,  3,  4,  5],\n",
       "       [ 6,  7,  8,  9, 10],\n",
       "       [11, 12, 13, 14, 15],\n",
       "       [16, 17, 18, 19, 20],\n",
       "       [21, 22, 23, 24, 25]])"
      ]
     },
     "execution_count": 54,
     "metadata": {},
     "output_type": "execute_result"
    }
   ],
   "source": [
    "# IDEXING AND SELECTION EXERCISES\n",
    "\n",
    "mat = np.arange(1,26).reshape(5,5)\n",
    "mat"
   ]
  },
  {
   "cell_type": "markdown",
   "id": "b067f8da",
   "metadata": {},
   "source": [
    "<h3><span style=\"color:#065a60\">E12: Write code that reproduces the output shown below..</span></h3>\n",
    "\n",
    "**Output: array([[12, 13, 14, 15], [17, 18, 19, 20],[22, 23, 24, 25]])**"
   ]
  },
  {
   "cell_type": "code",
   "execution_count": 55,
   "id": "3d8f8e00",
   "metadata": {},
   "outputs": [
    {
     "data": {
      "text/plain": [
       "array([[12, 13, 14, 15],\n",
       "       [17, 18, 19, 20],\n",
       "       [22, 23, 24, 25]])"
      ]
     },
     "execution_count": 55,
     "metadata": {},
     "output_type": "execute_result"
    }
   ],
   "source": [
    "mat[2:,1:]"
   ]
  },
  {
   "cell_type": "markdown",
   "id": "02a3ebd4",
   "metadata": {},
   "source": [
    " <h3><span style=\"color:#065a60\">E13: Write code that reproduces the output shown below.</span></h3>\n",
    " \n",
    " **Ouput: 20**"
   ]
  },
  {
   "cell_type": "code",
   "execution_count": 58,
   "id": "15dac466",
   "metadata": {},
   "outputs": [
    {
     "data": {
      "text/plain": [
       "20"
      ]
     },
     "execution_count": 58,
     "metadata": {},
     "output_type": "execute_result"
    }
   ],
   "source": [
    "mat[3,4]"
   ]
  },
  {
   "cell_type": "markdown",
   "id": "ff8472e7",
   "metadata": {},
   "source": [
    "<h3><span style=\"color:#065a60\">E14: Write code that reproduces the output shown below.</span></h3>\n",
    "\n",
    "**Output: array([[ 2], \n",
    "    [ 7], [12]])**"
   ]
  },
  {
   "cell_type": "code",
   "execution_count": 59,
   "id": "dfbf7ebe",
   "metadata": {},
   "outputs": [
    {
     "data": {
      "text/plain": [
       "array([[ 2],\n",
       "       [ 7],\n",
       "       [12]])"
      ]
     },
     "execution_count": 59,
     "metadata": {},
     "output_type": "execute_result"
    }
   ],
   "source": [
    "mat[:3,1].reshape(3,1)"
   ]
  },
  {
   "cell_type": "markdown",
   "id": "13cfa586",
   "metadata": {},
   "source": [
    " <h3><span style=\"color:#065a60\">E15: Write code that reproduces the output shown below.</span></h3>\n",
    "\n",
    "**Output: array([21, 22, 23, 24, 25])**"
   ]
  },
  {
   "cell_type": "code",
   "execution_count": 60,
   "id": "3b229de3",
   "metadata": {},
   "outputs": [
    {
     "data": {
      "text/plain": [
       "array([21, 22, 23, 24, 25])"
      ]
     },
     "execution_count": 60,
     "metadata": {},
     "output_type": "execute_result"
    }
   ],
   "source": [
    "mat[4]"
   ]
  },
  {
   "cell_type": "markdown",
   "id": "f477bac8",
   "metadata": {},
   "source": [
    " <h3><span style=\"color:#065a60\">E16: Write code that reproduces the output shown below.</span></h3>\n",
    "\n",
    "**Output: array([[16, 17, 18, 19, 20],\n",
    "       [21, 22, 23, 24, 25]])**"
   ]
  },
  {
   "cell_type": "code",
   "execution_count": 61,
   "id": "ce9d05a0",
   "metadata": {},
   "outputs": [
    {
     "data": {
      "text/plain": [
       "array([[16, 17, 18, 19, 20],\n",
       "       [21, 22, 23, 24, 25]])"
      ]
     },
     "execution_count": 61,
     "metadata": {},
     "output_type": "execute_result"
    }
   ],
   "source": [
    "mat[3:]"
   ]
  },
  {
   "cell_type": "markdown",
   "id": "566cfed1",
   "metadata": {},
   "source": [
    " <h3><span style=\"color:#065a60\">E17: Get the sum of all the values in mat.</span></h3>"
   ]
  },
  {
   "cell_type": "code",
   "execution_count": 62,
   "id": "726c7f24",
   "metadata": {},
   "outputs": [
    {
     "data": {
      "text/plain": [
       "325"
      ]
     },
     "execution_count": 62,
     "metadata": {},
     "output_type": "execute_result"
    }
   ],
   "source": [
    "mat.sum()"
   ]
  },
  {
   "cell_type": "markdown",
   "id": "c4a20829",
   "metadata": {},
   "source": [
    " <h3><span style=\"color:#065a60\">E18: Get the standard deviation of the values in mat.</span></h3>"
   ]
  },
  {
   "cell_type": "code",
   "execution_count": 63,
   "id": "07bb241a",
   "metadata": {},
   "outputs": [
    {
     "data": {
      "text/plain": [
       "7.211102550927978"
      ]
     },
     "execution_count": 63,
     "metadata": {},
     "output_type": "execute_result"
    }
   ],
   "source": [
    "mat.std()"
   ]
  },
  {
   "cell_type": "markdown",
   "id": "2b4074ff",
   "metadata": {},
   "source": [
    " <h3><span style=\"color:#065a60\">E19: Get the sum of all the columns in mat.</span></h3>"
   ]
  },
  {
   "cell_type": "code",
   "execution_count": 64,
   "id": "8490ceb1",
   "metadata": {},
   "outputs": [
    {
     "data": {
      "text/plain": [
       "array([55, 60, 65, 70, 75])"
      ]
     },
     "execution_count": 64,
     "metadata": {},
     "output_type": "execute_result"
    }
   ],
   "source": [
    "mat.sum(axis=0)"
   ]
  },
  {
   "cell_type": "markdown",
   "id": "a315c379",
   "metadata": {},
   "source": [
    "<a id=3>  </a> <br>\n",
    "\n",
    "<h2>Pandas Exercises</h2>\n",
    "\n",
    "![python](img/pandas.gif)"
   ]
  },
  {
   "cell_type": "code",
   "execution_count": 67,
   "id": "c3d19274",
   "metadata": {},
   "outputs": [],
   "source": [
    "# import pandas\n",
    "\n",
    "import pandas as pd"
   ]
  },
  {
   "cell_type": "markdown",
   "id": "d46b3f3f",
   "metadata": {},
   "source": [
    "<h3><span style=\"color:#065a60\">Coding Exercise Check-in 4: Labeled Index in Pandas Series </span></h3>\n"
   ]
  },
  {
   "cell_type": "code",
   "execution_count": null,
   "id": "4f3e7dd4",
   "metadata": {},
   "outputs": [],
   "source": []
  }
 ],
 "metadata": {
  "kernelspec": {
   "display_name": "Python 3",
   "language": "python",
   "name": "python3"
  },
  "language_info": {
   "codemirror_mode": {
    "name": "ipython",
    "version": 3
   },
   "file_extension": ".py",
   "mimetype": "text/x-python",
   "name": "python",
   "nbconvert_exporter": "python",
   "pygments_lexer": "ipython3",
   "version": "3.8.8"
  }
 },
 "nbformat": 4,
 "nbformat_minor": 5
}
